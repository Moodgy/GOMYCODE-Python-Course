{
 "cells": [
  {
   "cell_type": "code",
   "execution_count": 1,
   "id": "da14dd94",
   "metadata": {},
   "outputs": [
    {
     "name": "stdout",
     "output_type": "stream",
     "text": [
      "[1 2 3 4 5]\n",
      "<class 'numpy.ndarray'>\n",
      "<class 'list'>\n",
      "[1, 2, 3, 4, 5]\n"
     ]
    }
   ],
   "source": [
    "#Question 1\n",
    "\n",
    "import numpy as np\n",
    "\n",
    "\n",
    "arr = np.array([1,2,3,4,5])\n",
    "\n",
    "print(arr)\n",
    "print(type(arr))\n",
    "\n",
    "\n",
    "\n",
    "\n",
    "arr = list(arr)\n",
    "print(type(arr))\n",
    "print(arr)"
   ]
  },
  {
   "cell_type": "code",
   "execution_count": 4,
   "id": "f28441e0",
   "metadata": {},
   "outputs": [
    {
     "name": "stdout",
     "output_type": "stream",
     "text": [
      "numpy matrix is:\n",
      "[[55 25 15]\n",
      " [30 44  2]\n",
      " [11 45 77]]\n",
      "/n Trace of given 3x3 Matrix:\n",
      "176\n"
     ]
    }
   ],
   "source": [
    "#Question 2\n",
    "\n",
    "import numpy as np \n",
    "\n",
    "\n",
    "num_array = np.array([[55,25,15],\n",
    "                   [30,44,2],\n",
    "                   [11,45,77]])\n",
    "\n",
    "\n",
    "print(\"numpy matrix is:\")\n",
    "print(num_array)\n",
    "\n",
    "\n",
    "trace = np.trace(num_array)\n",
    "\n",
    "\n",
    "print(\"/n Trace of given 3x3 Matrix:\")\n",
    "\n",
    "print(trace)"
   ]
  },
  {
   "cell_type": "code",
   "execution_count": 5,
   "id": "7760212b",
   "metadata": {},
   "outputs": [
    {
     "name": "stdout",
     "output_type": "stream",
     "text": [
      "Mean of Row 1 is 2.0\n",
      "Mean of Row 2 is 5.0\n",
      "Mean of Row 3 is 8.0\n",
      "Mean of column 1 is 4.0\n",
      "Mean of column 2 is 5.0\n",
      "Mean of column 3 is 6.0\n"
     ]
    }
   ],
   "source": [
    "#Question 3. DONT GRADE ON THIS! THIS IS COPY AND PASTED FOR LEARNING PURPOSES\n",
    "# Importing Library\n",
    "import numpy as np\n",
    "\n",
    "# creating 2d array\n",
    "arr = np.array([[1, 2, 3], [4, 5, 6], [7, 8, 9]])\n",
    "\n",
    "# Calculating mean across Rows\n",
    "row_mean = np.mean(arr, axis=1)\n",
    "\n",
    "row1_mean = row_mean[0]\n",
    "print(\"Mean of Row 1 is\", row1_mean)\n",
    "\n",
    "row2_mean = row_mean[1]\n",
    "print(\"Mean of Row 2 is\", row2_mean)\n",
    "\n",
    "row3_mean = row_mean[2]\n",
    "print(\"Mean of Row 3 is\", row3_mean)\n",
    "\n",
    "\n",
    "# Calculating mean across Columns\n",
    "column_mean = np.mean(arr, axis=0)\n",
    "\n",
    "column1_mean = column_mean[0]\n",
    "print(\"Mean of column 1 is\", column1_mean)\n",
    "\n",
    "column2_mean = column_mean[1]\n",
    "print(\"Mean of column 2 is\", column2_mean)\n",
    "\n",
    "column3_mean = column_mean[2]\n",
    "print(\"Mean of column 3 is\", column3_mean)\n"
   ]
  },
  {
   "cell_type": "code",
   "execution_count": null,
   "id": "885bba58",
   "metadata": {},
   "outputs": [],
   "source": []
  }
 ],
 "metadata": {
  "kernelspec": {
   "display_name": "Python 3 (ipykernel)",
   "language": "python",
   "name": "python3"
  },
  "language_info": {
   "codemirror_mode": {
    "name": "ipython",
    "version": 3
   },
   "file_extension": ".py",
   "mimetype": "text/x-python",
   "name": "python",
   "nbconvert_exporter": "python",
   "pygments_lexer": "ipython3",
   "version": "3.9.13"
  }
 },
 "nbformat": 4,
 "nbformat_minor": 5
}
