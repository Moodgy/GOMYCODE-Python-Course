{
 "cells": [
  {
   "cell_type": "markdown",
   "metadata": {
    "id": "BnA5PscALqYj"
   },
   "source": [
    "# Rectify the code in each cell and **explain the error in comments**"
   ]
  },
  {
   "cell_type": "markdown",
   "metadata": {
    "id": "aZcPJnU5CUJC"
   },
   "source": [
    "### index error"
   ]
  },
  {
   "cell_type": "code",
   "execution_count": 2,
   "metadata": {
    "colab": {
     "base_uri": "https://localhost:8080/",
     "height": 180
    },
    "id": "vizZiOjyCUJF",
    "outputId": "d60b442a-7d0b-4a63-915e-b34c92ae1d96"
   },
   "outputs": [
    {
     "data": {
      "text/plain": [
       "967"
      ]
     },
     "execution_count": 2,
     "metadata": {},
     "output_type": "execute_result"
    }
   ],
   "source": [
    "mylist=[14, \"hello\", 967]\n",
    "mylist[2]"
   ]
  },
  {
   "cell_type": "code",
   "execution_count": 1,
   "metadata": {
    "colab": {
     "base_uri": "https://localhost:8080/",
     "height": 316
    },
    "id": "PctyMmHLfvkb",
    "outputId": "6ef84401-e2ca-4a8d-9ea2-50267d30907e"
   },
   "outputs": [],
   "source": [
    "import pandas\n",
    "import numpy"
   ]
  },
  {
   "cell_type": "markdown",
   "metadata": {
    "id": "QOOGIm3DCUJb"
   },
   "source": [
    "# syntax error"
   ]
  },
  {
   "cell_type": "code",
   "execution_count": 5,
   "metadata": {
    "colab": {
     "base_uri": "https://localhost:8080/",
     "height": 129
    },
    "id": "M5R4cb7fCUJb",
    "outputId": "7797e323-4c11-4464-a601-36ea718efc78"
   },
   "outputs": [
    {
     "name": "stdout",
     "output_type": "stream",
     "text": [
      "python errors\n"
     ]
    }
   ],
   "source": [
    "print(\"python errors\")"
   ]
  },
  {
   "cell_type": "markdown",
   "metadata": {
    "id": "Zllqh28_CUJh"
   },
   "source": [
    "# key error"
   ]
  },
  {
   "cell_type": "code",
   "execution_count": 1,
   "metadata": {
    "colab": {
     "base_uri": "https://localhost:8080/",
     "height": 180
    },
    "id": "OuWy1e17CUJj",
    "outputId": "1a93b6cd-3623-4df3-d078-a719126b0018",
    "scrolled": true
   },
   "outputs": [
    {
     "data": {
      "text/plain": [
       "'hello'"
      ]
     },
     "execution_count": 1,
     "metadata": {},
     "output_type": "execute_result"
    }
   ],
   "source": [
    "mydictionnary = {True:\"hello\",False:\"bye\", '3':\"python\"}\n",
    "mydictionnary[1]"
   ]
  },
  {
   "cell_type": "markdown",
   "metadata": {
    "id": "jc1wRC1aCUJw"
   },
   "source": [
    "# indentation error"
   ]
  },
  {
   "cell_type": "markdown",
   "metadata": {
    "id": "-g_eEuEICUJ5"
   },
   "source": [
    "# StopIteration"
   ]
  },
  {
   "cell_type": "code",
   "execution_count": 2,
   "metadata": {
    "colab": {
     "base_uri": "https://localhost:8080/",
     "height": 197
    },
    "id": "tJv5vQQGCUJ5",
    "outputId": "9264e3a0-eecb-48da-e379-0c8e00c53fbd"
   },
   "outputs": [
    {
     "data": {
      "text/plain": [
       "3"
      ]
     },
     "execution_count": 2,
     "metadata": {},
     "output_type": "execute_result"
    }
   ],
   "source": [
    "\n",
    "it=iter([1,2,3])\n",
    "next(it)\n",
    "next(it)\n",
    "next(it)\n"
   ]
  },
  {
   "cell_type": "markdown",
   "metadata": {
    "id": "0Q0fJoS1CUKA"
   },
   "source": [
    "# TypeError\n"
   ]
  },
  {
   "cell_type": "code",
   "execution_count": 3,
   "metadata": {
    "colab": {
     "base_uri": "https://localhost:8080/",
     "height": 163
    },
    "id": "rh6bhiQ6CUKA",
    "outputId": "541b75f5-c116-4a28-a2ac-372080438f07"
   },
   "outputs": [
    {
     "data": {
      "text/plain": [
       "30"
      ]
     },
     "execution_count": 3,
     "metadata": {},
     "output_type": "execute_result"
    }
   ],
   "source": [
    "15+15"
   ]
  },
  {
   "cell_type": "markdown",
   "metadata": {
    "id": "-xs5Em9QCUKF"
   },
   "source": [
    "# ValueError"
   ]
  },
  {
   "cell_type": "code",
   "execution_count": 1,
   "metadata": {
    "colab": {
     "base_uri": "https://localhost:8080/",
     "height": 163
    },
    "id": "_rUS-J3dCUKH",
    "outputId": "26afb8f3-8bbc-4cb0-d7ca-9bcfcca52839"
   },
   "outputs": [
    {
     "data": {
      "text/plain": [
       "34"
      ]
     },
     "execution_count": 1,
     "metadata": {},
     "output_type": "execute_result"
    }
   ],
   "source": [
    "int(34)"
   ]
  },
  {
   "cell_type": "markdown",
   "metadata": {
    "id": "SIKftfJSCUKM"
   },
   "source": [
    "# NameError"
   ]
  },
  {
   "cell_type": "code",
   "execution_count": null,
   "metadata": {
    "colab": {
     "base_uri": "https://localhost:8080/",
     "height": 163
    },
    "id": "j3ZhAO67CUKM",
    "outputId": "9190ee36-d5f7-409c-b7d5-9eaf40c3897f"
   },
   "outputs": [],
   "source": [
    "python = 1\n",
    "\n",
    "\n",
    "print(python)"
   ]
  },
  {
   "cell_type": "markdown",
   "metadata": {
    "id": "kNtxxeuaCUKT"
   },
   "source": [
    "# ZeroDivisionError"
   ]
  },
  {
   "cell_type": "code",
   "execution_count": 5,
   "metadata": {
    "colab": {
     "base_uri": "https://localhost:8080/",
     "height": 163
    },
    "id": "hTaVRw1GCUKW",
    "outputId": "5085a28b-79ff-4478-9bb7-0120bf68e100"
   },
   "outputs": [],
   "source": [
    "x = 18/2"
   ]
  }
 ],
 "metadata": {
  "colab": {
   "provenance": []
  },
  "kernelspec": {
   "display_name": "Python 3 (ipykernel)",
   "language": "python",
   "name": "python3"
  },
  "language_info": {
   "codemirror_mode": {
    "name": "ipython",
    "version": 3
   },
   "file_extension": ".py",
   "mimetype": "text/x-python",
   "name": "python",
   "nbconvert_exporter": "python",
   "pygments_lexer": "ipython3",
   "version": "3.9.13"
  }
 },
 "nbformat": 4,
 "nbformat_minor": 1
}
