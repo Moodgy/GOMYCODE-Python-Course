{
 "cells": [
  {
   "cell_type": "code",
   "execution_count": 3,
   "id": "8b9f1ba2",
   "metadata": {},
   "outputs": [
    {
     "name": "stdout",
     "output_type": "stream",
     "text": [
      "9\n"
     ]
    }
   ],
   "source": [
    "#Question 1\n",
    "l = [3,6,9]\n",
    "def highestnumber(l)\n",
    "for i in l:\n",
    "    if i > u:\n",
    "        u = i\n",
    "return(u)"
   ]
  },
  {
   "cell_type": "code",
   "execution_count": 13,
   "id": "212a2ad0",
   "metadata": {},
   "outputs": [
    {
     "data": {
      "text/plain": [
       "(15, 1)"
      ]
     },
     "execution_count": 13,
     "metadata": {},
     "output_type": "execute_result"
    }
   ],
   "source": [
    "#Question 2\n",
    "def calculation (a,b):\n",
    "    sub = a - b\n",
    "    add = a + b\n",
    "    return add, sub\n",
    "\n",
    "calculation(8,7)"
   ]
  },
  {
   "cell_type": "code",
   "execution_count": 21,
   "id": "cb2bbecb",
   "metadata": {},
   "outputs": [
    {
     "name": "stdout",
     "output_type": "stream",
     "text": [
      "1\n",
      "131\n"
     ]
    }
   ],
   "source": [
    "#Question 3\n",
    "j = [4,3,5,3,7,11,98]\n",
    "\n",
    "def sumit(l):\n",
    "    result = 1\n",
    "    for i in l:\n",
    "        result = result * i\n",
    "    return result\n",
    "\n",
    "def sume(l):\n",
    "    result = 0\n",
    "    for i in l:\n",
    "        result = result + i\n",
    "    return result\n",
    "        \n",
    "sd = []\n",
    "df = []\n",
    "\n",
    "for s in range (len(j)):\n",
    "    if i % 2 == 0:\n",
    "        sd.append(j[s])\n",
    "    else:\n",
    "        df.append(j[s])\n",
    "\n",
    "print(sumit(sd))\n",
    "print(sume(df))\n"
   ]
  },
  {
   "cell_type": "code",
   "execution_count": 9,
   "id": "a1a76c58",
   "metadata": {
    "collapsed": true
   },
   "outputs": [],
   "source": [
    "#Question 4\n",
    "x = {\"name\":\"mohamed\",\"car\":\"mercedes\"}\n",
    "def los(y):\n",
    "    for i in y.values():\n",
    "    print(i[0]capitalize())"
   ]
  },
  {
   "cell_type": "code",
   "execution_count": 2,
   "id": "bfc3b305",
   "metadata": {},
   "outputs": [
    {
     "name": "stdout",
     "output_type": "stream",
     "text": [
      "mercedes\n"
     ]
    }
   ],
   "source": [
    "#Question 5\n",
    "x = {\"name\":\"mohamed\",\"car\":\"mercedes\"}\n",
    "\n",
    "h =[]\n",
    "\n",
    "for i in x.values():\n",
    "    h.append(i)\n",
    "print (max(h,key=len))\n"
   ]
  },
  {
   "cell_type": "code",
   "execution_count": 5,
   "id": "11b778a0",
   "metadata": {},
   "outputs": [
    {
     "name": "stdout",
     "output_type": "stream",
     "text": [
      "black-green-red-white-yellow\n"
     ]
    }
   ],
   "source": [
    "#Question 6\n",
    "j = \"green-red-yellow-black-white\"\n",
    "\n",
    "\n",
    "i = j.split(\"-\")\n",
    "\n",
    "i.sort()\n",
    "\n",
    "\n",
    "print(\"-\".join(i))\n"
   ]
  },
  {
   "cell_type": "code",
   "execution_count": null,
   "id": "382e9c97",
   "metadata": {},
   "outputs": [],
   "source": [
    "#Question 7\n",
    "def root(entry):\n",
    "    value = []\n",
    "    for i in entry\n",
    "    k = (2 * 50 * int(i) / 30) ** 0.5\n",
    "    value.append(int(k))\n",
    "    return(value)\n",
    "\n",
    "x = input\n",
    "x = x.split(\",\")\n",
    "\n",
    "\n"
   ]
  }
 ],
 "metadata": {
  "kernelspec": {
   "display_name": "Python 3 (ipykernel)",
   "language": "python",
   "name": "python3"
  },
  "language_info": {
   "codemirror_mode": {
    "name": "ipython",
    "version": 3
   },
   "file_extension": ".py",
   "mimetype": "text/x-python",
   "name": "python",
   "nbconvert_exporter": "python",
   "pygments_lexer": "ipython3",
   "version": "3.9.13"
  }
 },
 "nbformat": 4,
 "nbformat_minor": 5
}
